{
 "cells": [
  {
   "cell_type": "code",
   "execution_count": 3,
   "source": [
    "import json\n",
    "\n",
    "with open(\"data.json\", \"r\", encoding=\"utf-8\") as r:\n",
    "    data = json.load(r)\n",
    "\n",
    "index = 1\n",
    "for i in data:\n",
    "    data[i] = index\n",
    "    index += 1\n",
    "\n",
    "temp = ()\n",
    "\n",
    "with open(\"train/cong-nghe.txt\", \"r\") as r:\n",
    "    strs = r.readlines()\n",
    "    for str in strs:\n",
    "        sum = 0\n",
    "        for i in str.split():\n",
    "            sum += data.get(i, 0)\n",
    "        temp += (sum,)\n",
    "\n",
    "print(len(temp))"
   ],
   "outputs": [
    {
     "output_type": "stream",
     "name": "stdout",
     "text": [
      "1220\n"
     ]
    }
   ],
   "metadata": {}
  },
  {
   "cell_type": "code",
   "execution_count": 1,
   "source": [
    "import numpy as np\n",
    "import matplotlib.pyplot as plt\n",
    "import json\n",
    "\n",
    "with open(\"data.json\", \"r\", encoding=\"utf-8\") as r:\n",
    "    data = json.load(r)\n",
    "\n",
    "index = 1\n",
    "for i in data:\n",
    "    data[i] = index\n",
    "    index += 1\n",
    "\n",
    "positive = ()\n",
    "negative = ()\n",
    "\n",
    "negative_files = ['train/doi-song.txt', 'train/giai-tri.txt', 'train/the-gioi.txt', 'train/thoi-su.txt']\n",
    "\n",
    "from sklearn.feature_extraction.text import TfidfVectorizer\n",
    "\n",
    "with open(\"train/cong-nghe.txt\", \"r\") as r:\n",
    "\tvectorize = TfidfVectorizer()\n",
    "\tvectorize.fit(r.readlines())\n",
    "\tprint(vectorize.idf_)\n",
    "    for s in vectorize.idf_:\n",
    "        sum = 0\n",
    "        for i in s.split():\n",
    "            sum += data.get(i, 0)\n",
    "        positive += (sum,)\n",
    "\n",
    "for file in negative_files:\n",
    "\twith open(file, \"r\") as r:\n",
    "\t\tfor s in r.readlines():\n",
    "\t\t\tsum = 0\n",
    "\t\t\tfor i in s.split():\n",
    "\t\t\t\tsum += data.get(i, 0)\n",
    "\t\t\tnegative += (sum,)\n",
    "\n",
    "def estimate_coef(x, y):\n",
    "\t# number of observations/points\n",
    "\tn = np.size(x)\n",
    "\n",
    "\t# mean of x and y vector\n",
    "\tm_x = np.mean(x)\n",
    "\tm_y = np.mean(y)\n",
    "\n",
    "\t# calculating cross-deviation and deviation about x\n",
    "\tSS_xy = np.sum(y*x) - n*m_y*m_x\n",
    "\tSS_xx = np.sum(x*x) - n*m_x*m_x\n",
    "\n",
    "\t# calculating regression coefficients\n",
    "\tb_1 = SS_xy / SS_xx\n",
    "\tb_0 = m_y - b_1*m_x\n",
    "\n",
    "\treturn (b_0, b_1)\n",
    "\n",
    "def plot_regression_line(x, y, b):\n",
    "\t# plotting the actual points as scatter plot\n",
    "\tplt.scatter(x, y, color = \"m\",\n",
    "\t\t\tmarker = \"o\", s = 30)\n",
    "\t# plt.scatter(positive, [1 for _ in range(len(positive))], color = \"m\",\n",
    "\t# \t\tmarker = \"o\", s = 30)\n",
    "\n",
    "\t# # predicted response vector\n",
    "\ty_pred = b[0] + b[1]*x\n",
    "\t# y_pred = [1 for _ in range(len(positive))]\n",
    "\n",
    "\t# # plotting the regression line\n",
    "\tplt.plot(x, y_pred, color = \"g\")\n",
    "\t# plt.plot(positive, y_pred, color = \"g\")\n",
    "\n",
    "\t# putting labels\n",
    "\tplt.xlabel('x')\n",
    "\tplt.ylabel('y')\n",
    "\n",
    "\t# function to show plot\n",
    "\tplt.show()\n",
    "\n",
    "def main():\n",
    "\t# observations / data\n",
    "\tx = np.array(positive + negative)\n",
    "\ty = np.array([1 for _ in range(len(positive))]+[0 for _ in range(len(negative))])\n",
    "\n",
    "\t# estimating coefficients\n",
    "\tb = estimate_coef(x, y)\n",
    "\tprint(\"Estimated coefficients:\\nb_0 = {} \\\n",
    "\t\t\\nb_1 = {}\".format(b[0], b[1]))\n",
    "\n",
    "\t# plotting regression line\n",
    "\tplot_regression_line(x, y, b)\n",
    "\n",
    "# if __name__ == \"__main__\":\n",
    "# \tmain()"
   ],
   "outputs": [
    {
     "output_type": "stream",
     "name": "stdout",
     "text": [
      "[6.49798756 2.73678745 7.00881319 ... 4.55207741 4.17559984 1.79206747]\n"
     ]
    }
   ],
   "metadata": {}
  }
 ],
 "metadata": {
  "orig_nbformat": 4,
  "language_info": {
   "name": "python",
   "version": "3.9.6",
   "mimetype": "text/x-python",
   "codemirror_mode": {
    "name": "ipython",
    "version": 3
   },
   "pygments_lexer": "ipython3",
   "nbconvert_exporter": "python",
   "file_extension": ".py"
  },
  "kernelspec": {
   "name": "python3",
   "display_name": "Python 3.9.6 64-bit"
  },
  "interpreter": {
   "hash": "f9f85f796d01129d0dd105a088854619f454435301f6ffec2fea96ecbd9be4ac"
  }
 },
 "nbformat": 4,
 "nbformat_minor": 2
}